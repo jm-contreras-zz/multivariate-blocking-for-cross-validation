{
 "cells": [
  {
   "cell_type": "markdown",
   "metadata": {},
   "source": [
    "### Import modules"
   ]
  },
  {
   "cell_type": "code",
   "execution_count": 13,
   "metadata": {
    "collapsed": false
   },
   "outputs": [],
   "source": [
    "# Parameters\n",
    "import parameters as p\n",
    "\n",
    "# Data manipulation\n",
    "import numpy as np\n",
    "import pandas as pd\n",
    "\n",
    "# Modeling\n",
    "from sklearn import datasets\n",
    "from sklearn import linear_model\n",
    "from sklearn import cross_validation\n",
    "from sklearn import feature_selection\n",
    "from sklearn import ensemble\n",
    "\n",
    "# R interface\n",
    "from rpy2.robjects import StrVector\n",
    "from rpy2.robjects import pandas2ri\n",
    "from rpy2.robjects.packages import importr\n",
    "\n",
    "# Visualization\n",
    "import seaborn as sns\n",
    "import matplotlib.pyplot as plt\n",
    "\n",
    "# Miscellaneous\n",
    "import tqdm\n",
    "\n",
    "# Inline plotting\n",
    "%matplotlib inline"
   ]
  },
  {
   "cell_type": "markdown",
   "metadata": {},
   "source": [
    "### Define functions"
   ]
  },
  {
   "cell_type": "code",
   "execution_count": 7,
   "metadata": {
    "collapsed": false
   },
   "outputs": [],
   "source": [
    "def make_synth_data(p):\n",
    "    '''Create a synthetic dataset of variable size using sample generators from scikit-learn.\n",
    "    The number of informative features and the target variable type (discrete or continuous) are\n",
    "    also declareable parameters.\n",
    "    '''\n",
    "    if p.DISCRETE_Y:\n",
    "        X, y = datasets.make_classification(n_samples=p.N_SAMPLES, n_features=p.N_FEATURES,\n",
    "                                            n_informative=p.N_INFORMATIVE, n_redundant=0,\n",
    "                                            n_repeated=0, n_classes=p.N_CLASSES,\n",
    "                                            n_clusters_per_class=1, weights=p.WEIGHTS,\n",
    "                                            flip_y=0.01, class_sep=1.0, hypercube=False,\n",
    "                                            shift=0.0, scale=1.0, shuffle=True,\n",
    "                                            random_state=None)\n",
    "    else:\n",
    "        X, y = datasets.make_regression(n_samples=p.N_SAMPLES, n_features=p.N_FEATURES,\n",
    "                                        n_informative=p.N_INFORMATIVE, n_targets=1, bias=0.0,\n",
    "                                        effective_rank=None, tail_strength=0.5, noise=0.0,\n",
    "                                        shuffle=True, coef=False, random_state=None)\n",
    "    \n",
    "    # Transform X from NumPy array to pandas DataFrame\n",
    "    X = pd.DataFrame(X, columns=['f{}'.format(i) for i in range(p.N_FEATURES)])\n",
    "    \n",
    "    return X, y\n",
    "\n",
    "def select_block_vars(X_train, y_train, p):\n",
    "    '''Use feature selection on the training data to select the blocking variables.'''\n",
    "    # Create feature selector\n",
    "    sel = feature_selection.SelectKBest(score_func=feature_selection.f_classif)\n",
    "    \n",
    "    # Perform feature selection\n",
    "    sel.fit(X_train, y_train)\n",
    "    \n",
    "    # Extract blocking variables\n",
    "    return [b for (a, b) in sorted(zip(sel.scores_, X_train.columns))][-p.N_INFORMATIVE:]\n",
    "\n",
    "def assign_folds(X, block_vars, p):\n",
    "    '''Assign each unit in a dataset to a cross-validation fold using blockTools. The number of\n",
    "    folds as well as blockTools parameters are declarable.\n",
    "    '''\n",
    "    # Activate pandas conversion support\n",
    "    pandas2ri.activate()\n",
    "    # Import blockTools\n",
    "    blockTools = importr('blockTools')\n",
    "\n",
    "    # Assign units to blocks and then folds\n",
    "    blocks = blockTools.block(X.reset_index(), id_vars='index',\n",
    "                              block_vars=StrVector(block_vars), n_tr=p.K)\n",
    "    folds = blockTools.assignment(blocks)\n",
    "    # Transform folds to DataFrame\n",
    "    folds = pandas2ri.ri2py_dataframe(folds.rx2('assg').rx2('1')).astype(int)\n",
    "\n",
    "    # Reformat DataFrame for cross-validation\n",
    "    max_dist = folds.pop('Max Distance')\n",
    "    folds.columns = np.arange(p.K)\n",
    "    folds = folds.stack()\n",
    "    folds.index = folds.index.droplevel(0)\n",
    "    folds = folds.reset_index()\n",
    "    folds.columns = ['k', 'unit']\n",
    "    \n",
    "    # Shuffle cross-validation assignment as control\n",
    "    folds['unit_shuffled'] = folds['unit'].sample(frac=1).reset_index(drop=True)\n",
    "\n",
    "    return folds, max_dist\n",
    "\n",
    "def evaluate_model(model, X, y, folds, col, p):\n",
    "    '''Perform k-folds cross-validation using the column COL in FOLDS.'''\n",
    "    # Create DataFrame to hold results\n",
    "    df = pd.DataFrame(None, columns=['col', 'k', 'accuracy'])\n",
    "\n",
    "    # Iterate through folds\n",
    "    for k in range(p.K):\n",
    "        # Identify units in testing set\n",
    "        is_test = np.in1d(np.arange(y.shape[0]), folds.ix[folds['k'] == k, col])\n",
    "        # Fit model on other units\n",
    "        model.fit(X.ix[~is_test, :], y[~is_test])\n",
    "        # Evaluate model accuracy on testing set\n",
    "        accuracy = model.score(X.ix[is_test, :], y[is_test])\n",
    "        df = df.append({'col': col, 'k': k, 'accuracy': accuracy}, ignore_index=True)\n",
    "    \n",
    "    # Return filled DataFrame\n",
    "    return df\n",
    "\n",
    "def draw_violin(df, x_lab, y_lab, bw):\n",
    "    '''Draw a violin plot to visualize comparisons between value distributions.'''\n",
    "    # Reformat DataFrame\n",
    "    df_melt = pd.melt(df, id_vars='n_sim')\n",
    "    df_melt['constant'] = 'constant'\n",
    "    # Create violin plot\n",
    "    sns.violinplot(x='constant', y='value', hue='variable',\n",
    "                   data=df_melt, split=True, inner='quartile', bw=bw)\n",
    "\n",
    "    # Add title\n",
    "    plt.title('{} by {}'.format(x_lab, y_lab), size=18, y=1.05)\n",
    "    \n",
    "    # Add axis labels\n",
    "    plt.ylabel(y_lab, size=15)\n",
    "    plt.xlabel('', size=0)\n",
    "    plt.xticks([1], [0], size=0)\n",
    "\n",
    "    # Add legend\n",
    "    legend = plt.legend(title=x_lab, fontsize=12)\n",
    "    plt.setp(legend.get_title(), fontsize=15);\n",
    "\n",
    "def report_sim_status(x, frequency=10):\n",
    "    '''Update user on status of simulation.'''\n",
    "    if x % frequency == 0:\n",
    "        print 'FINISHED SIMULATION {}.'.format(x)"
   ]
  },
  {
   "cell_type": "markdown",
   "metadata": {},
   "source": [
    "### Perform simulations"
   ]
  },
  {
   "cell_type": "code",
   "execution_count": 15,
   "metadata": {
    "collapsed": false
   },
   "outputs": [
    {
     "name": "stderr",
     "output_type": "stream",
     "text": [
      "100%|██████████| 100/100 [14:30<00:00,  7.89s/it]\n"
     ]
    },
    {
     "data": {
      "image/png": "[encoded data removed]",
      "text/plain": [
       "<matplotlib.figure.Figure at 0x1198b0a10>"
      ]
     },
     "metadata": {},
     "output_type": "display_data"
    }
   ],
   "source": [
    "reload(p)\n",
    "\n",
    "df = pd.DataFrame(None, columns=['n_sim', 'blockTools', 'None'])\n",
    "\n",
    "# Iterate through simulations\n",
    "for s in tqdm.tqdm(range(p.N_SIMULATIONS)):\n",
    "\n",
    "    # Create syntethic data\n",
    "    X, y = make_synth_data(p)\n",
    "\n",
    "    # Split data into training and testing sets\n",
    "    X_train, X_test, y_train, y_test = cross_validation.train_test_split(X, y,\n",
    "                                                                         train_size=p.TRAIN_SIZE,\n",
    "                                                                         random_state=None)\n",
    "\n",
    "    # Select blocking variables\n",
    "    block_vars = select_block_vars(X_train, y_train, p)\n",
    "\n",
    "    # Use blockTools for assignment to cross-validation folds\n",
    "    folds, max_dist = assign_folds(X_test, block_vars, p)\n",
    "\n",
    "    # Create model object\n",
    "    clf = ensemble.RandomForestClassifier(n_estimators=100)\n",
    "\n",
    "    # Fit model and evaluate performance\n",
    "    treat = evaluate_model(clf, X_test, y_test, folds, 'unit', p)\n",
    "    control = evaluate_model(clf, X_test, y_test, folds, 'unit_shuffled', p)\n",
    "    \n",
    "    # Append results to DataFrame\n",
    "    df = df.append({'n_sim': s, 'blockTools': treat['accuracy'].mean(),\n",
    "                    'None': control['accuracy'].mean()}, ignore_index=True)\n",
    "    \n",
    "    # Report status of simulations\n",
    "    # report_sim_status(s, frequency=10)\n",
    "    \n",
    "draw_violin(df, 'Blocking Method', 'Classification Accuracy', bw=.2)"
   ]
  },
  {
   "cell_type": "code",
   "execution_count": 16,
   "metadata": {
    "collapsed": false
   },
   "outputs": [
    {
     "data": {
      "text/html": [
       "<div>\n",
       "<table border=\"1\" class=\"dataframe\">\n",
       "  <thead>\n",
       "    <tr style=\"text-align: right;\">\n",
       "      <th></th>\n",
       "      <th>n_sim</th>\n",
       "      <th>blockTools</th>\n",
       "      <th>None</th>\n",
       "    </tr>\n",
       "  </thead>\n",
       "  <tbody>\n",
       "    <tr>\n",
       "      <th>count</th>\n",
       "      <td>100.000000</td>\n",
       "      <td>100.000000</td>\n",
       "      <td>100.000000</td>\n",
       "    </tr>\n",
       "    <tr>\n",
       "      <th>mean</th>\n",
       "      <td>49.500000</td>\n",
       "      <td>0.718265</td>\n",
       "      <td>0.721171</td>\n",
       "    </tr>\n",
       "    <tr>\n",
       "      <th>std</th>\n",
       "      <td>29.011492</td>\n",
       "      <td>0.075809</td>\n",
       "      <td>0.074380</td>\n",
       "    </tr>\n",
       "    <tr>\n",
       "      <th>min</th>\n",
       "      <td>0.000000</td>\n",
       "      <td>0.527599</td>\n",
       "      <td>0.534783</td>\n",
       "    </tr>\n",
       "    <tr>\n",
       "      <th>25%</th>\n",
       "      <td>24.750000</td>\n",
       "      <td>0.671477</td>\n",
       "      <td>0.673233</td>\n",
       "    </tr>\n",
       "    <tr>\n",
       "      <th>50%</th>\n",
       "      <td>49.500000</td>\n",
       "      <td>0.714896</td>\n",
       "      <td>0.717298</td>\n",
       "    </tr>\n",
       "    <tr>\n",
       "      <th>75%</th>\n",
       "      <td>74.250000</td>\n",
       "      <td>0.782041</td>\n",
       "      <td>0.780185</td>\n",
       "    </tr>\n",
       "    <tr>\n",
       "      <th>max</th>\n",
       "      <td>99.000000</td>\n",
       "      <td>0.864731</td>\n",
       "      <td>0.892294</td>\n",
       "    </tr>\n",
       "  </tbody>\n",
       "</table>\n",
       "</div>"
      ],
      "text/plain": [
       "            n_sim  blockTools        None\n",
       "count  100.000000  100.000000  100.000000\n",
       "mean    49.500000    0.718265    0.721171\n",
       "std     29.011492    0.075809    0.074380\n",
       "min      0.000000    0.527599    0.534783\n",
       "25%     24.750000    0.671477    0.673233\n",
       "50%     49.500000    0.714896    0.717298\n",
       "75%     74.250000    0.782041    0.780185\n",
       "max     99.000000    0.864731    0.892294"
      ]
     },
     "execution_count": 16,
     "metadata": {},
     "output_type": "execute_result"
    }
   ],
   "source": [
    "df.describe()"
   ]
  }
 ],
 "metadata": {
  "kernelspec": {
   "display_name": "Python 2",
   "language": "python",
   "name": "python2"
  },
  "language_info": {
   "codemirror_mode": {
    "name": "ipython",
    "version": 2
   },
   "file_extension": ".py",
   "mimetype": "text/x-python",
   "name": "python",
   "nbconvert_exporter": "python",
   "pygments_lexer": "ipython2",
   "version": "2.7.11"
  }
 },
 "nbformat": 4,
 "nbformat_minor": 0
}
