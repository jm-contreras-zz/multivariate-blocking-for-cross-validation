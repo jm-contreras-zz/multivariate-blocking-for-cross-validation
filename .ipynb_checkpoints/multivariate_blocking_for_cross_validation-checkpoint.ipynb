{
 "cells": [
  {
   "cell_type": "markdown",
   "metadata": {},
   "source": [
    "**TODO**\n",
    "* Create parameter dictionary\n",
    "* `blockTools` wrapper\n",
    "  * Transform raw output\n",
    "* Write cross-validation process"
   ]
  },
  {
   "cell_type": "markdown",
   "metadata": {},
   "source": [
    "### Import modules"
   ]
  },
  {
   "cell_type": "code",
   "execution_count": 14,
   "metadata": {
    "collapsed": false
   },
   "outputs": [],
   "source": [
    "import numpy as np\n",
    "import pandas as pd\n",
    "\n",
    "import sklearn.datasets as datasets\n",
    "import sklearn.linear_model as linear_model\n",
    "\n",
    "from rpy2.robjects.packages import importr\n",
    "from rpy2.robjects import pandas2ri"
   ]
  },
  {
   "cell_type": "markdown",
   "metadata": {},
   "source": [
    "### Declare parameters"
   ]
  },
  {
   "cell_type": "code",
   "execution_count": 2,
   "metadata": {
    "collapsed": true
   },
   "outputs": [],
   "source": [
    "Y_TYPE = 'binary'"
   ]
  },
  {
   "cell_type": "markdown",
   "metadata": {},
   "source": [
    "### Define functions"
   ]
  },
  {
   "cell_type": "code",
   "execution_count": 24,
   "metadata": {
    "collapsed": false
   },
   "outputs": [],
   "source": [
    "def simulate_data(y_type):\n",
    "    '''Create synthetic data.'''\n",
    "    if y_type == 'binary':\n",
    "        X, y = datasets.make_classification(n_samples=100, n_features=20, n_informative=2,\n",
    "                                            n_redundant=2, n_repeated=0, n_classes=2,\n",
    "                                            n_clusters_per_class=2, weights=None, flip_y=0.01,\n",
    "                                            class_sep=1.0, hypercube=True, shift=0.0, scale=1.0,\n",
    "                                            shuffle=True, random_state=None)\n",
    "    elif y_type == 'multi_class':\n",
    "        X, y = datasets.make_multilabel_classification(n_samples=100, n_features=20, n_classes=5,\n",
    "                                                       n_labels=2, length=50,\n",
    "                                                       allow_unlabeled=True, sparse=False,\n",
    "                                                       return_indicator='dense',\n",
    "                                                       return_distributions=False,\n",
    "                                                       random_state=None)\n",
    "    elif y_type == 'continuous':\n",
    "        X, y = datasets.make_regression(n_samples=100, n_features=100, n_informative=10,\n",
    "                                        n_targets=1, bias=0.0, effective_rank=None,\n",
    "                                        tail_strength=0.5, noise=0.0, shuffle=True, coef=False,\n",
    "                                        random_state=None)\n",
    "    return X, y\n",
    "\n",
    "def block(X):\n",
    "    '''Assign each sample to a block.'''\n",
    "    # Activate pandas conversion support\n",
    "    pandas2ri.activate()\n",
    "    # Import blockTools\n",
    "    block = importr('blockTools')\n",
    "    # Convert X to pandas DataFrame \n",
    "    df = pd.DataFrame(X, columns=['v{}'.format(i + 1) for i in xrange(X.shape[1])]).reset_index()\n",
    "    # Perform blocking\n",
    "    out = block.block(df, id_vars='index', block_vars='v1', n_tr=10)\n",
    "    # Extract assignment DataFrame\n",
    "    return pandas2ri.ri2py_dataframe(out.rx2('blocks').rx2('1'))"
   ]
  },
  {
   "cell_type": "markdown",
   "metadata": {},
   "source": [
    "### Perform analysis"
   ]
  },
  {
   "cell_type": "code",
   "execution_count": 4,
   "metadata": {
    "collapsed": false
   },
   "outputs": [],
   "source": [
    "# Create synthetic data\n",
    "X, y = simulate_data(Y_TYPE)\n",
    "\n",
    "# Use blockTools for cross-validation assignment\n",
    "cval_blocks = block(X)"
   ]
  }
 ],
 "metadata": {
  "kernelspec": {
   "display_name": "Python 2",
   "language": "python",
   "name": "python2"
  },
  "language_info": {
   "codemirror_mode": {
    "name": "ipython",
    "version": 2
   },
   "file_extension": ".py",
   "mimetype": "text/x-python",
   "name": "python",
   "nbconvert_exporter": "python",
   "pygments_lexer": "ipython2",
   "version": "2.7.11"
  }
 },
 "nbformat": 4,
 "nbformat_minor": 0
}
